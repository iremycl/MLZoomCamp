{
 "cells": [
  {
   "cell_type": "markdown",
   "id": "e2107e7b",
   "metadata": {},
   "source": [
    "### Load code from previous weeks:"
   ]
  },
  {
   "cell_type": "code",
   "execution_count": 1,
   "id": "e3f2ad43",
   "metadata": {},
   "outputs": [],
   "source": [
    "import pandas as pd\n",
    "import numpy as np \n",
    "\n",
    "from sklearn.model_selection import train_test_split\n",
    "from sklearn.model_selection import KFold\n",
    "\n",
    "from sklearn.feature_extraction import DictVectorizer\n",
    "from sklearn.linear_model import LogisticRegression\n",
    "from sklearn.metrics import roc_auc_score\n"
   ]
  },
  {
   "cell_type": "code",
   "execution_count": 8,
   "id": "4d0e56c8",
   "metadata": {},
   "outputs": [
    {
     "data": {
      "text/plain": [
       "(7043, 21)"
      ]
     },
     "execution_count": 8,
     "metadata": {},
     "output_type": "execute_result"
    }
   ],
   "source": [
    "df = pd.read_csv('../03-classification/WA_Fn-UseC_-Telco-Customer-Churn.csv')\n",
    "\n",
    "df.columns = df.columns.str.lower().str.replace(' ', '_')\n",
    "\n",
    "categorical_columns = list(df.dtypes[df.dtypes == 'object'].index)\n",
    "\n",
    "for c in categorical_columns:\n",
    "    df[c] = df[c].str.lower().str.replace(' ', '_')\n",
    "    \n",
    "df.totalcharges = pd.to_numeric(df.totalcharges, errors='coerce')\n",
    "df.totalcharges = df.totalcharges.fillna(0)\n",
    "\n",
    "df.churn = (df.churn == 'yes').astype(int)\n",
    "\n",
    "df.head(5)\n",
    "df.shape"
   ]
  },
  {
   "cell_type": "code",
   "execution_count": 9,
   "id": "95ef7060",
   "metadata": {},
   "outputs": [],
   "source": [
    "df_full_train, df_test = train_test_split(df, test_size=0.2, random_state=1)\n",
    "\n",
    "numerical = ['tenure', 'monthlycharges', 'totalcharges']\n",
    "\n",
    "categorical = [\n",
    "    'gender',\n",
    "    'seniorcitizen',\n",
    "    'partner',\n",
    "    'dependents',\n",
    "    'phoneservice',\n",
    "    'multiplelines',\n",
    "    'internetservice',\n",
    "    'onlinesecurity',\n",
    "    'onlinebackup',\n",
    "    'deviceprotection',\n",
    "    'techsupport',\n",
    "    'streamingtv',\n",
    "    'streamingmovies',\n",
    "    'contract',\n",
    "    'paperlessbilling',\n",
    "    'paymentmethod',\n",
    "]\n",
    "\n",
    "def train(df_train, y_train, C=1.0):\n",
    "    dicts = df_train[categorical + numerical].to_dict(orient='records')\n",
    "\n",
    "    dv = DictVectorizer(sparse=False)\n",
    "    X_train = dv.fit_transform(dicts)\n",
    "\n",
    "    model = LogisticRegression(C=C, max_iter=1000)\n",
    "    model.fit(X_train, y_train)\n",
    "    \n",
    "    return dv, model\n",
    "\n",
    "\n",
    "def predict(df, dv, model):\n",
    "    dicts = df[categorical + numerical].to_dict(orient='records')\n",
    "\n",
    "    X = dv.transform(dicts)\n",
    "    y_pred = model.predict_proba(X)[:, 1]\n",
    "\n",
    "    return y_pred\n"
   ]
  },
  {
   "cell_type": "code",
   "execution_count": 10,
   "id": "3ce4f156",
   "metadata": {},
   "outputs": [
    {
     "name": "stdout",
     "output_type": "stream",
     "text": [
      "C=1.0 0.841 +- 0.008\n"
     ]
    }
   ],
   "source": [
    "C = 1.0\n",
    "n_splits = 5\n",
    "\n",
    "kfold = KFold(n_splits=n_splits, shuffle=True, random_state=1)\n",
    "\n",
    "scores = []\n",
    "\n",
    "for train_idx, val_idx in kfold.split(df_full_train):\n",
    "    df_train = df_full_train.iloc[train_idx]\n",
    "    df_val = df_full_train.iloc[val_idx]\n",
    "\n",
    "    y_train = df_train.churn.values\n",
    "    y_val = df_val.churn.values\n",
    "\n",
    "    dv, model = train(df_train, y_train, C=C)\n",
    "    y_pred = predict(df_val, dv, model)\n",
    "\n",
    "    auc = roc_auc_score(y_val, y_pred)\n",
    "    scores.append(auc)\n",
    "\n",
    "print('C=%s %.3f +- %.3f' % (C, np.mean(scores), np.std(scores)))"
   ]
  },
  {
   "cell_type": "code",
   "execution_count": 11,
   "id": "6d0122f7",
   "metadata": {},
   "outputs": [
    {
     "data": {
      "text/plain": [
       "0.8572386167896259"
      ]
     },
     "execution_count": 11,
     "metadata": {},
     "output_type": "execute_result"
    }
   ],
   "source": [
    "dv, model = train(df_full_train, df_full_train.churn.values, C=1.0)\n",
    "y_pred = predict(df_test, dv, model)\n",
    "y_test = df_test.churn.values\n",
    "auc = roc_auc_score(y_test, y_pred)\n",
    "auc"
   ]
  },
  {
   "cell_type": "markdown",
   "id": "4e763ddd",
   "metadata": {},
   "source": [
    "Take this model and put it in a web service"
   ]
  },
  {
   "cell_type": "markdown",
   "id": "c764d64d",
   "metadata": {},
   "source": [
    "1) Save the model using pickle\n"
   ]
  },
  {
   "cell_type": "code",
   "execution_count": null,
   "id": "c2b96d19",
   "metadata": {},
   "outputs": [],
   "source": [
    "import pickle"
   ]
  },
  {
   "cell_type": "code",
   "execution_count": 13,
   "id": "54c325d3",
   "metadata": {},
   "outputs": [
    {
     "data": {
      "text/plain": [
       "'model_C=1.0.bin'"
      ]
     },
     "execution_count": 13,
     "metadata": {},
     "output_type": "execute_result"
    }
   ],
   "source": [
    "output_file = f'model_C={C}.bin'\n",
    "output_file"
   ]
  },
  {
   "cell_type": "code",
   "execution_count": null,
   "id": "4e1fa5f2",
   "metadata": {},
   "outputs": [],
   "source": [
    "f_out = open(output_file,'wb') #write bytes - will be binary\n",
    "pickle.dump((dv,model), f_out)\n",
    "f_out.close()"
   ]
  },
  {
   "cell_type": "code",
   "execution_count": null,
   "id": "586c6cfb",
   "metadata": {},
   "outputs": [],
   "source": [
    "# or do the same thing with with statement so the file will be automatically closed.\n",
    "with open(output_file, 'wb') as f_out:\n",
    "    pickle.dump((dv,model),f_out)"
   ]
  },
  {
   "cell_type": "markdown",
   "id": "14fb36a8",
   "metadata": {},
   "source": [
    "Load model"
   ]
  },
  {
   "cell_type": "code",
   "execution_count": 15,
   "id": "47d25a1f",
   "metadata": {},
   "outputs": [],
   "source": [
    "#After restarting the kernel\n",
    "import pickle\n",
    "\n",
    "model_file = 'model_C=1.0.bin'\n",
    "\n",
    "with open(model_file, 'rb') as f_in: #w->r or it would overwrite the file\n",
    "    dv, model = pickle.load(f_in)"
   ]
  },
  {
   "cell_type": "code",
   "execution_count": 16,
   "id": "d2adbd3b",
   "metadata": {},
   "outputs": [
    {
     "data": {
      "text/plain": [
       "(DictVectorizer(sparse=False), LogisticRegression(max_iter=1000))"
      ]
     },
     "execution_count": 16,
     "metadata": {},
     "output_type": "execute_result"
    }
   ],
   "source": [
    "dv, model"
   ]
  },
  {
   "cell_type": "code",
   "execution_count": 18,
   "id": "6965856b",
   "metadata": {},
   "outputs": [],
   "source": [
    "customer = {\n",
    "   'gender': 'female',\n",
    "   'seniorcitizen': 0,\n",
    "   'partner': 'yes',\n",
    "   'dependents': 'no',\n",
    "   'phoneservice': 'no',\n",
    "   'multiplelines': 'no_phone_service',\n",
    "   'internetservice': 'dsl',\n",
    "   'onlinesecurity': 'no',\n",
    "   'onlinebackup': 'yes',\n",
    "   'deviceprotection': 'no',\n",
    "   'techsupport': 'no',\n",
    "   'streamingtv': 'no',\n",
    "   'streamingmovies': 'no',\n",
    "   'contract': 'month-to-month',\n",
    "   'paperlessbilling': 'yes',\n",
    "   'paymentmethod': 'electronic_check',\n",
    "   'tenure': 1,\n",
    "   'monthlycharges': 29.85,\n",
    "   'totalcharges': 29.85\n",
    "}"
   ]
  },
  {
   "cell_type": "code",
   "execution_count": 19,
   "id": "ffc09d2c",
   "metadata": {},
   "outputs": [],
   "source": [
    "X = dv.transform([customer])"
   ]
  },
  {
   "cell_type": "code",
   "execution_count": 20,
   "id": "781c27d1",
   "metadata": {},
   "outputs": [
    {
     "data": {
      "text/plain": [
       "0.6363584152758612"
      ]
     },
     "execution_count": 20,
     "metadata": {},
     "output_type": "execute_result"
    }
   ],
   "source": [
    "model.predict_proba(X)[0,1] # Prob that this customer will churn"
   ]
  },
  {
   "cell_type": "code",
   "execution_count": null,
   "id": "c7db0c8a",
   "metadata": {},
   "outputs": [],
   "source": [
    "#Convert all this notebook to single python file that does all these steps, instead of using jupyter and running all the chunks:\n",
    "#Download as python file"
   ]
  },
  {
   "cell_type": "markdown",
   "id": "21b50a15",
   "metadata": {},
   "source": [
    "## 5.3 Web Services\n",
    "Creating a simple ping/pong\n",
    "In ping file\n",
    "## 5.4 Serving the churn model with flask:"
   ]
  },
  {
   "cell_type": "code",
   "execution_count": null,
   "id": "7e138148",
   "metadata": {},
   "outputs": [],
   "source": [
    "\n",
    "import requests"
   ]
  },
  {
   "cell_type": "code",
   "execution_count": null,
   "id": "533a66cb",
   "metadata": {},
   "outputs": [],
   "source": [
    "customer = {\n",
    "   \"gender\": \"female\",\n",
    "   \"seniorcitizen\": 0,\n",
    "   \"partner\": \"yes\",\n",
    "   \"dependents\": \"no\",\n",
    "   \"phoneservice\": \"no\",\n",
    "   \"multiplelines\": \"no_phone_service\",\n",
    "   \"internetservice\": \"dsl\",\n",
    "   \"onlinesecurity\": \"no\",\n",
    "   \"onlinebackup\": \"yes\",\n",
    "   \"deviceprotection\": \"no\",\n",
    "   \"techsupport\": \"no\",\n",
    "   \"streamingtv\": \"no\",\n",
    "   \"streamingmovies\": \"no\",\n",
    "   \"contract\": \"month-to-month\",\n",
    "   \"paperlessbilling\": \"yes\",\n",
    "   \"paymentmethod\": \"electronic_check\",\n",
    "   \"tenure\": 1,\n",
    "   \"monthlycharges\": 29.85,\n",
    "   \"totalcharges\": 29.85\n",
    "}\n",
    "\n",
    "url = 'http://localhost:9696/predict'"
   ]
  },
  {
   "cell_type": "code",
   "execution_count": null,
   "id": "fb4a9619",
   "metadata": {},
   "outputs": [],
   "source": [
    "response = requests.post(url, json=customer).json()\n",
    "response"
   ]
  },
  {
   "cell_type": "code",
   "execution_count": null,
   "id": "c65a279d",
   "metadata": {},
   "outputs": [],
   "source": [
    "if response['churn'] == True:\n",
    "    print('sending promo email to %s' % ('xyz-123'))"
   ]
  },
  {
   "cell_type": "markdown",
   "id": "9d9dc064",
   "metadata": {},
   "source": [
    "# 5.5 Environment and dependency management\n",
    "Using pipenv"
   ]
  },
  {
   "cell_type": "code",
   "execution_count": null,
   "id": "187151b4",
   "metadata": {},
   "outputs": [],
   "source": [
    "# pip install pipenv\n",
    "# pipenv install numpy scikit-learn==0.24.2 flask\n",
    "# pipfile created "
   ]
  },
  {
   "cell_type": "markdown",
   "id": "9c78f826",
   "metadata": {},
   "source": [
    "# 5.6 Environment management: Docker\n",
    "Added docker file"
   ]
  }
 ],
 "metadata": {
  "kernelspec": {
   "display_name": "Python 3.10.0 64-bit",
   "language": "python",
   "name": "python3"
  },
  "language_info": {
   "codemirror_mode": {
    "name": "ipython",
    "version": 3
   },
   "file_extension": ".py",
   "mimetype": "text/x-python",
   "name": "python",
   "nbconvert_exporter": "python",
   "pygments_lexer": "ipython3",
   "version": "3.10.0"
  },
  "vscode": {
   "interpreter": {
    "hash": "aee8b7b246df8f9039afb4144a1f6fd8d2ca17a180786b69acc140d282b71a49"
   }
  }
 },
 "nbformat": 4,
 "nbformat_minor": 5
}
